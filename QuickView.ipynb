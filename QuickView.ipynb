{
 "cells": [
  {
   "cell_type": "markdown",
   "id": "24fea426-3a14-4235-a350-3afe5a25435f",
   "metadata": {},
   "source": [
    "# CM - FINAL"
   ]
  },
  {
   "cell_type": "code",
   "execution_count": 24,
   "id": "048d44df-a4b4-4f47-9072-6da65f98e19d",
   "metadata": {},
   "outputs": [],
   "source": [
    "import numpy as np\n",
    "import astropy.units as u\n",
    "from astropy.table import Table, QTable, join,vstack\n",
    "from astropy.coordinates import SkyCoord\n",
    "import matplotlib.pyplot as plt\n",
    "\n",
    "\n",
    "from astroquery.simbad import Simbad\n",
    "from astropy.coordinates import Angle\n",
    "\n",
    "from  astroquery.gaia import Gaia\n",
    "import pandas as pd"
   ]
  },
  {
   "cell_type": "markdown",
   "id": "a624b057-18a8-48fd-94a2-bade50057791",
   "metadata": {},
   "source": [
    "### Carga archivos\n",
    "\n",
    "### Laura"
   ]
  },
  {
   "cell_type": "code",
   "execution_count": 25,
   "id": "c5d22b32-4a94-427a-aeba-ac8bf125a49e",
   "metadata": {},
   "outputs": [
    {
     "data": {
      "text/html": [
       "<i>Table length=75</i>\n",
       "<table id=\"table140074611648256\" class=\"table-striped table-bordered table-condensed\">\n",
       "<thead><tr><th>Name</th><th>RA</th><th>DEC</th><th>Redshift</th><th>Magnitud(V)</th></tr></thead>\n",
       "<thead><tr><th>str7</th><th>str12</th><th>str12</th><th>float64</th><th>float64</th></tr></thead>\n",
       "<tr><td>NGC266</td><td>00 49 47.80</td><td>+32 16 39.8</td><td>0.0155</td><td>11.82</td></tr>\n",
       "<tr><td>NGC315</td><td>00 57 48.88</td><td>+30 21 08.8</td><td>0.0165</td><td>11.6</td></tr>\n",
       "<tr><td>NGC410</td><td>01 10 58.904</td><td>+33 09 06.81</td><td>0.0177</td><td>11.48</td></tr>\n",
       "<tr><td>NGC474</td><td>01 20 06.70</td><td>+03 24 55.0</td><td>0.0077</td><td>11.52</td></tr>\n",
       "<tr><td>NGC524</td><td>01 24 47.72</td><td>+09 32 20</td><td>0.008</td><td>10.35</td></tr>\n",
       "<tr><td>NGC833</td><td>02 09 20.88</td><td>-10 07 59</td><td>0.0129</td><td>12.9</td></tr>\n",
       "<tr><td>NGC835</td><td>02 09 24.69</td><td>-10 08 10.</td><td>0.0136</td><td>12.41</td></tr>\n",
       "<tr><td>NGC841</td><td>02 11 17.36</td><td>+37 29 49.8</td><td>0.0151</td><td>13.12</td></tr>\n",
       "<tr><td>NGC1052</td><td>02 41 04.80</td><td>+08 15 20.8</td><td>0.0049</td><td>11.04</td></tr>\n",
       "<tr><td>NGC2639</td><td>08 43 38.08</td><td>+50 12 20.0</td><td>0.0111</td><td>11.76</td></tr>\n",
       "<tr><td>...</td><td>...</td><td>...</td><td>...</td><td>...</td></tr>\n",
       "<tr><td>NGC5813</td><td>15 01 11.23</td><td>+01 42 07.13</td><td>0.0065</td><td>10.53</td></tr>\n",
       "<tr><td>NGC5838</td><td>15 05 26.26</td><td>+02 05 57.6</td><td>0.0045</td><td>10.81</td></tr>\n",
       "<tr><td>NGC5846</td><td>15 06 29.29</td><td>+01 36 20.2</td><td>0.0062</td><td>10.18</td></tr>\n",
       "<tr><td>NGC5866</td><td>15 06 29.50</td><td>+55 45 47.6</td><td>0.0039</td><td>11.27</td></tr>\n",
       "<tr><td>NGC5957</td><td>15 35 23.21</td><td>+12 02 51.36</td><td>0.0061</td><td>12.25</td></tr>\n",
       "<tr><td>NGC6482</td><td>17 51 48.81</td><td>+23 04 19.0</td><td>0.0131</td><td>11.33</td></tr>\n",
       "<tr><td>NGC7285</td><td>22 28 38.00</td><td>−24 50 26.8</td><td>0.0144</td><td>--</td></tr>\n",
       "<tr><td>NGC7331</td><td>22 37 04.09</td><td>+34 24 56.3</td><td>0.0038</td><td>9.41</td></tr>\n",
       "<tr><td>IC1459</td><td>22 57 10.60</td><td>−36 27 44.0</td><td>0.0055</td><td>10.54</td></tr>\n",
       "<tr><td>NGC7743</td><td>23 44 21.14</td><td>+09 56 02.7</td><td>0.0057</td><td>12.43</td></tr>\n",
       "</table>"
      ],
      "text/plain": [
       "<Table length=75>\n",
       "  Name       RA          DEC      Redshift Magnitud(V)\n",
       "  str7     str12        str12     float64    float64  \n",
       "------- ------------ ------------ -------- -----------\n",
       " NGC266  00 49 47.80  +32 16 39.8   0.0155       11.82\n",
       " NGC315  00 57 48.88  +30 21 08.8   0.0165        11.6\n",
       " NGC410 01 10 58.904 +33 09 06.81   0.0177       11.48\n",
       " NGC474  01 20 06.70  +03 24 55.0   0.0077       11.52\n",
       " NGC524  01 24 47.72    +09 32 20    0.008       10.35\n",
       " NGC833  02 09 20.88    -10 07 59   0.0129        12.9\n",
       " NGC835  02 09 24.69   -10 08 10.   0.0136       12.41\n",
       " NGC841  02 11 17.36  +37 29 49.8   0.0151       13.12\n",
       "NGC1052  02 41 04.80  +08 15 20.8   0.0049       11.04\n",
       "NGC2639  08 43 38.08  +50 12 20.0   0.0111       11.76\n",
       "    ...          ...          ...      ...         ...\n",
       "NGC5813  15 01 11.23 +01 42 07.13   0.0065       10.53\n",
       "NGC5838  15 05 26.26  +02 05 57.6   0.0045       10.81\n",
       "NGC5846  15 06 29.29  +01 36 20.2   0.0062       10.18\n",
       "NGC5866  15 06 29.50  +55 45 47.6   0.0039       11.27\n",
       "NGC5957  15 35 23.21 +12 02 51.36   0.0061       12.25\n",
       "NGC6482  17 51 48.81  +23 04 19.0   0.0131       11.33\n",
       "NGC7285  22 28 38.00  −24 50 26.8   0.0144          --\n",
       "NGC7331  22 37 04.09  +34 24 56.3   0.0038        9.41\n",
       " IC1459  22 57 10.60  −36 27 44.0   0.0055       10.54\n",
       "NGC7743  23 44 21.14  +09 56 02.7   0.0057       12.43"
      ]
     },
     "execution_count": 25,
     "metadata": {},
     "output_type": "execute_result"
    }
   ],
   "source": [
    "laura = Table.read('CatalogosRadio/Laura.csv') #Leer tabla\n",
    "laura=laura.to_pandas()\n",
    "laura=laura.rename(columns={'Objeto':'Name'})   \n",
    "laura=Table.from_pandas(laura)\n",
    "laura"
   ]
  },
  {
   "cell_type": "markdown",
   "id": "b95a8e6d-232c-4a4b-beef-f7e814aa0fbd",
   "metadata": {},
   "source": [
    "### Saikia\n"
   ]
  },
  {
   "cell_type": "code",
   "execution_count": 26,
   "id": "a375285a-2cbb-488a-bd9b-da681e528450",
   "metadata": {},
   "outputs": [
    {
     "data": {
      "text/html": [
       "<i>Table length=45</i>\n",
       "<table id=\"table140074611611104\" class=\"table-striped table-bordered table-condensed\">\n",
       "<thead><tr><th>Name</th><th>RA</th><th>Dec</th><th>Beam</th><th>BPA</th><th>Speak</th><th>RMS</th></tr></thead>\n",
       "<thead><tr><th>str7</th><th>str11</th><th>str10</th><th>str9</th><th>float64</th><th>str11</th><th>float64</th></tr></thead>\n",
       "<tr><td>NGC410</td><td>01:10:58.91</td><td>33:09:07.1</td><td>0.18x0.13</td><td>-82.6</td><td>0.72+-0.01</td><td>11.1</td></tr>\n",
       "<tr><td>NGC488</td><td>01:21:46.80</td><td>05:15:24.6</td><td>0.22x0.14</td><td>-58.3</td><td>0.14+-0.01</td><td>10.7</td></tr>\n",
       "<tr><td>NGC521</td><td>01:24:33.77</td><td>01:43:52.9</td><td>0.23x0.14</td><td>-53.3</td><td>0.34+-0.01</td><td>10.6</td></tr>\n",
       "<tr><td>NGC660</td><td>01:43:02.32</td><td>13:38:44.9</td><td>0.21x0.14</td><td>-66.2</td><td>62.80+-0.12</td><td>9.0</td></tr>\n",
       "<tr><td>NGC777</td><td>02:00:14.91</td><td>31:25:45.9</td><td>0.22x0.13</td><td>-76.4</td><td>0.53+-0.01</td><td>10.7</td></tr>\n",
       "<tr><td>NGC841</td><td>02:11:17.37</td><td>37:29:49.7</td><td>0.21x0.13</td><td>-79.9</td><td>0.06+-0.01</td><td>7.8</td></tr>\n",
       "<tr><td>NGC1055</td><td>02:41:45.20</td><td>00:26:38.1</td><td>0.29x0.14</td><td>-54.4</td><td>0.18+-0.01</td><td>10.6</td></tr>\n",
       "<tr><td>NGC1169</td><td>03:03:34.74</td><td>46:23:11.1</td><td>0.23x0.13</td><td>-81.0</td><td>0.36+-0.01</td><td>9.8</td></tr>\n",
       "<tr><td>NGC1961</td><td>05:42:04.65</td><td>69:22:42.4</td><td>0.26x0.13</td><td>72.8</td><td>0.50+-0.01</td><td>9.5</td></tr>\n",
       "<tr><td>NGC2681</td><td>08:53:32.72</td><td>51:18:49.2</td><td>0.17x0.14</td><td>-87.2</td><td>0.34+-0.01</td><td>9.6</td></tr>\n",
       "<tr><td>...</td><td>...</td><td>...</td><td>...</td><td>...</td><td>...</td><td>...</td></tr>\n",
       "<tr><td>NGC5850</td><td>15:07:07.68</td><td>01:32:39.3</td><td>0.25x0.13</td><td>45.4</td><td>0.10+-0.01</td><td>11.1</td></tr>\n",
       "<tr><td>NGC5921</td><td>15:21:56.49</td><td>05:04:14.3</td><td>0.22x0.13</td><td>44.2</td><td>0.13+-0.01</td><td>11.7</td></tr>\n",
       "<tr><td>NGC5985</td><td>15:39:37.06</td><td>59:19:55.2</td><td>0.21x0.15</td><td>-86.4</td><td>0.53+-0.01</td><td>11.6</td></tr>\n",
       "<tr><td>NGC6340</td><td>17:10:24.84</td><td>72:18:15.9</td><td>0.19x0.12</td><td>-41.8</td><td>0.59+-0.01</td><td>10.2</td></tr>\n",
       "<tr><td>NGC6482</td><td>17:51:48.83</td><td>23:04:18.9</td><td>0.14x0.14</td><td>34.5</td><td>0.42+-0.01</td><td>9.0</td></tr>\n",
       "<tr><td>NGC6703</td><td>18:47:18.82</td><td>45:33:02.3</td><td>0.14x0.12</td><td>-20.7</td><td>0.63+-0.01</td><td>9.2</td></tr>\n",
       "<tr><td>NGC6951</td><td>20:37:14.12</td><td>66:06:20.0</td><td>0.16x0.12</td><td>24.0</td><td>0.26+-0.01</td><td>11.2</td></tr>\n",
       "<tr><td>NGC7814</td><td>00:03:14.90</td><td>16:08:43.2</td><td>0.16x0.14</td><td>-77.3</td><td>1.19+-0.01</td><td>9.5</td></tr>\n",
       "<tr><td>IC356</td><td>04:07:46.89</td><td>69:48:44.7</td><td>0.25x0.13</td><td>-81.8</td><td>1.28+-0.01</td><td>16.2</td></tr>\n",
       "<tr><td>IC520</td><td>08:53:42.25</td><td>73:29:27.4</td><td>0.20x0.13</td><td>-60.1</td><td>0.15+-0.01</td><td>9.3</td></tr>\n",
       "</table>"
      ],
      "text/plain": [
       "<Table length=45>\n",
       "  Name       RA        Dec        Beam     BPA      Speak      RMS  \n",
       "  str7     str11      str10       str9   float64    str11    float64\n",
       "------- ----------- ---------- --------- ------- ----------- -------\n",
       " NGC410 01:10:58.91 33:09:07.1 0.18x0.13   -82.6  0.72+-0.01    11.1\n",
       " NGC488 01:21:46.80 05:15:24.6 0.22x0.14   -58.3  0.14+-0.01    10.7\n",
       " NGC521 01:24:33.77 01:43:52.9 0.23x0.14   -53.3  0.34+-0.01    10.6\n",
       " NGC660 01:43:02.32 13:38:44.9 0.21x0.14   -66.2 62.80+-0.12     9.0\n",
       " NGC777 02:00:14.91 31:25:45.9 0.22x0.13   -76.4  0.53+-0.01    10.7\n",
       " NGC841 02:11:17.37 37:29:49.7 0.21x0.13   -79.9  0.06+-0.01     7.8\n",
       "NGC1055 02:41:45.20 00:26:38.1 0.29x0.14   -54.4  0.18+-0.01    10.6\n",
       "NGC1169 03:03:34.74 46:23:11.1 0.23x0.13   -81.0  0.36+-0.01     9.8\n",
       "NGC1961 05:42:04.65 69:22:42.4 0.26x0.13    72.8  0.50+-0.01     9.5\n",
       "NGC2681 08:53:32.72 51:18:49.2 0.17x0.14   -87.2  0.34+-0.01     9.6\n",
       "    ...         ...        ...       ...     ...         ...     ...\n",
       "NGC5850 15:07:07.68 01:32:39.3 0.25x0.13    45.4  0.10+-0.01    11.1\n",
       "NGC5921 15:21:56.49 05:04:14.3 0.22x0.13    44.2  0.13+-0.01    11.7\n",
       "NGC5985 15:39:37.06 59:19:55.2 0.21x0.15   -86.4  0.53+-0.01    11.6\n",
       "NGC6340 17:10:24.84 72:18:15.9 0.19x0.12   -41.8  0.59+-0.01    10.2\n",
       "NGC6482 17:51:48.83 23:04:18.9 0.14x0.14    34.5  0.42+-0.01     9.0\n",
       "NGC6703 18:47:18.82 45:33:02.3 0.14x0.12   -20.7  0.63+-0.01     9.2\n",
       "NGC6951 20:37:14.12 66:06:20.0 0.16x0.12    24.0  0.26+-0.01    11.2\n",
       "NGC7814 00:03:14.90 16:08:43.2 0.16x0.14   -77.3  1.19+-0.01     9.5\n",
       "  IC356 04:07:46.89 69:48:44.7 0.25x0.13   -81.8  1.28+-0.01    16.2\n",
       "  IC520 08:53:42.25 73:29:27.4 0.20x0.13   -60.1  0.15+-0.01     9.3"
      ]
     },
     "execution_count": 26,
     "metadata": {},
     "output_type": "execute_result"
    }
   ],
   "source": [
    "Saikia1 = Table.read('CatalogosRadio/Saikia_t1.csv') #Leer tabla\n",
    "Saikia1"
   ]
  },
  {
   "cell_type": "markdown",
   "id": "eb9e5292-0a47-4d7d-8c93-c0771a765987",
   "metadata": {},
   "source": [
    "### Baldi"
   ]
  },
  {
   "cell_type": "code",
   "execution_count": 27,
   "id": "9849df12-6860-4613-a140-dafcef23bd0b",
   "metadata": {},
   "outputs": [
    {
     "data": {
      "text/html": [
       "<i>Table length=103</i>\n",
       "<table id=\"table140075465095920\" class=\"table-striped table-bordered table-condensed\">\n",
       "<thead><tr><th>Name</th><th>RA</th><th>DEC</th><th>D</th><th>LEM</th><th>phaseCal</th><th>Q</th><th>Beam</th><th>PA</th><th>rms</th><th>det</th><th>morph</th></tr></thead>\n",
       "<thead><tr><th>str7</th><th>str12</th><th>str12</th><th>float64</th><th>int64</th><th>str9</th><th>str2</th><th>str9</th><th>float64</th><th>int64</th><th>str3</th><th>str1</th></tr></thead>\n",
       "<tr><td>NGC7817</td><td>00:03:58.899</td><td>+20:45:08.42</td><td>31.5</td><td>4</td><td>0004+2019</td><td>++</td><td>0.21x0.13</td><td>33.4</td><td>82</td><td>U</td><td>--</td></tr>\n",
       "<tr><td>IC10</td><td>00:20:23.16</td><td>+59:17:34.7</td><td>1.3</td><td>4</td><td>0027+5958</td><td>++</td><td>0.21x0.11</td><td>88.2</td><td>89</td><td>U</td><td>--</td></tr>\n",
       "<tr><td>NGC147</td><td>00:33:12.120</td><td>+48:30:31.46</td><td>0.7</td><td>4</td><td>0039+4900</td><td>++</td><td>0.24x0.14</td><td>-63.2</td><td>73</td><td>I</td><td>A</td></tr>\n",
       "<tr><td>NGC185</td><td>00:38:57.970</td><td>+48:20:14.56</td><td>0.7</td><td>4</td><td>0039+4900</td><td>++</td><td>0.17x0.14</td><td>-84.3</td><td>82</td><td>U</td><td>--</td></tr>\n",
       "<tr><td>NGC205</td><td>00:40:22.075</td><td>+41:41:07.08</td><td>0.7</td><td>4</td><td>0038+4137</td><td>++</td><td>0.20x0.13</td><td>79.8</td><td>86</td><td>U</td><td>--</td></tr>\n",
       "<tr><td>NGC221</td><td>00:42:41.825</td><td>+40:51:54.61</td><td>0.7</td><td>4</td><td>0038+4137</td><td>++</td><td>0.36x0.15</td><td>-34.7</td><td>82</td><td>U</td><td>--</td></tr>\n",
       "<tr><td>NGC224</td><td>00:42:44.330</td><td>+41:16:07.50</td><td>0.7</td><td>4</td><td>0038+413</td><td>++</td><td>0.19x0.14</td><td>-71.4</td><td>79</td><td>U</td><td>--</td></tr>\n",
       "<tr><td>NGC266</td><td>00:49:47.793</td><td>+32:16:39.81</td><td>62.4</td><td>3</td><td>0048+3157</td><td>+</td><td>0.48x0.31</td><td>-40.0</td><td>95</td><td>I</td><td>A</td></tr>\n",
       "<tr><td>NGC278</td><td>00:52:04.300</td><td>+47:33:01.93</td><td>11.8</td><td>4</td><td>0039+4900</td><td>++</td><td>0.29x0.14</td><td>-55.2</td><td>50</td><td>I</td><td>A</td></tr>\n",
       "<tr><td>NGC315</td><td>00:57:48.883</td><td>+30:21:08.81</td><td>65.8</td><td>3</td><td>0048+3157</td><td>+</td><td>0.12x0.12</td><td>45.0</td><td>5500</td><td>I</td><td>A</td></tr>\n",
       "<tr><td>...</td><td>...</td><td>...</td><td>...</td><td>...</td><td>...</td><td>...</td><td>...</td><td>...</td><td>...</td><td>...</td><td>...</td></tr>\n",
       "<tr><td>NGC6703</td><td>18:47:18.845</td><td>+45:33:02.33</td><td>35.9</td><td>5</td><td>1852+4855</td><td>m</td><td>0.19x0.15</td><td>53.6</td><td>66</td><td>I</td><td>A</td></tr>\n",
       "<tr><td>NGC6946</td><td>20:34:52.332</td><td>+60:09:13.24</td><td>5.5</td><td>5</td><td>2010+6116</td><td>m</td><td>0.19x0.15</td><td>-84.1</td><td>57</td><td>I</td><td>E</td></tr>\n",
       "<tr><td>NGC6951</td><td>20:37:14.118</td><td>+66:06:20.02</td><td>24.1</td><td>5</td><td>2015+6554</td><td>m</td><td>0.20x0.15</td><td>88.5</td><td>55</td><td>I</td><td>C</td></tr>\n",
       "<tr><td>NGC7217</td><td>22:07:52.368</td><td>+31:21:33.32</td><td>16.0</td><td>5</td><td>2217+3156</td><td>m</td><td>0.18x0.18</td><td>0.0</td><td>75</td><td>I</td><td>C</td></tr>\n",
       "<tr><td>NGC7331</td><td>22:37:04.102</td><td>+34:24:57.31</td><td>14.3</td><td>5</td><td>2253+3236</td><td>m</td><td>0.15x0.15</td><td>0.0</td><td>81</td><td>U</td><td>--</td></tr>\n",
       "<tr><td>NGC7332</td><td>22:37:24.522</td><td>+23:47:54.06</td><td>18.2</td><td>5</td><td>2238+2749</td><td>m</td><td>0.15x0.15</td><td>0.0</td><td>86</td><td>U</td><td>--</td></tr>\n",
       "<tr><td>NGC7457</td><td>23:00:59.934</td><td>+30:08:41.61</td><td>12.3</td><td>5</td><td>2253+3236</td><td>m</td><td>0.15x0.15</td><td>0.0</td><td>92</td><td>U</td><td>--</td></tr>\n",
       "<tr><td>NGC7640</td><td>23:22:06.584</td><td>+40:50:43.54</td><td>8.6</td><td>5</td><td>2312+3847</td><td>m</td><td>0.15x0.15</td><td>0.0</td><td>81</td><td>U</td><td>--</td></tr>\n",
       "<tr><td>NGC7741</td><td>23:43:54.375</td><td>+26:04:32.07</td><td>12.3</td><td>4</td><td>2343+2339</td><td>++</td><td>0.19x0.14</td><td>36.0</td><td>70</td><td>U</td><td>--</td></tr>\n",
       "<tr><td>NGC7798</td><td>23:59:25.503</td><td>+20:44:59.59</td><td>32.6</td><td>4</td><td>0004+2019</td><td>++</td><td>0.20x0.14</td><td>35.9</td><td>31</td><td>I</td><td>C</td></tr>\n",
       "</table>"
      ],
      "text/plain": [
       "<Table length=103>\n",
       "  Name       RA          DEC         D     LEM  ...    PA    rms  det  morph\n",
       "  str7     str12        str12     float64 int64 ... float64 int64 str3  str1\n",
       "------- ------------ ------------ ------- ----- ... ------- ----- ---- -----\n",
       "NGC7817 00:03:58.899 +20:45:08.42    31.5     4 ...    33.4    82    U    --\n",
       "   IC10  00:20:23.16  +59:17:34.7     1.3     4 ...    88.2    89    U    --\n",
       " NGC147 00:33:12.120 +48:30:31.46     0.7     4 ...   -63.2    73    I     A\n",
       " NGC185 00:38:57.970 +48:20:14.56     0.7     4 ...   -84.3    82    U    --\n",
       " NGC205 00:40:22.075 +41:41:07.08     0.7     4 ...    79.8    86    U    --\n",
       " NGC221 00:42:41.825 +40:51:54.61     0.7     4 ...   -34.7    82    U    --\n",
       " NGC224 00:42:44.330 +41:16:07.50     0.7     4 ...   -71.4    79    U    --\n",
       " NGC266 00:49:47.793 +32:16:39.81    62.4     3 ...   -40.0    95    I     A\n",
       " NGC278 00:52:04.300 +47:33:01.93    11.8     4 ...   -55.2    50    I     A\n",
       " NGC315 00:57:48.883 +30:21:08.81    65.8     3 ...    45.0  5500    I     A\n",
       "    ...          ...          ...     ...   ... ...     ...   ...  ...   ...\n",
       "NGC6703 18:47:18.845 +45:33:02.33    35.9     5 ...    53.6    66    I     A\n",
       "NGC6946 20:34:52.332 +60:09:13.24     5.5     5 ...   -84.1    57    I     E\n",
       "NGC6951 20:37:14.118 +66:06:20.02    24.1     5 ...    88.5    55    I     C\n",
       "NGC7217 22:07:52.368 +31:21:33.32    16.0     5 ...     0.0    75    I     C\n",
       "NGC7331 22:37:04.102 +34:24:57.31    14.3     5 ...     0.0    81    U    --\n",
       "NGC7332 22:37:24.522 +23:47:54.06    18.2     5 ...     0.0    86    U    --\n",
       "NGC7457 23:00:59.934 +30:08:41.61    12.3     5 ...     0.0    92    U    --\n",
       "NGC7640 23:22:06.584 +40:50:43.54     8.6     5 ...     0.0    81    U    --\n",
       "NGC7741 23:43:54.375 +26:04:32.07    12.3     4 ...    36.0    70    U    --\n",
       "NGC7798 23:59:25.503 +20:44:59.59    32.6     4 ...    35.9    31    I     C"
      ]
     },
     "execution_count": 27,
     "metadata": {},
     "output_type": "execute_result"
    }
   ],
   "source": [
    "Baldi= Table.read('CatalogosRadio/BALDI.csv') #Leer tabla\n",
    "Baldi"
   ]
  },
  {
   "cell_type": "markdown",
   "id": "4edb8665-9125-4d85-ae4c-934a04c3aaf2",
   "metadata": {},
   "source": [
    "### Baldi III"
   ]
  },
  {
   "cell_type": "code",
   "execution_count": 28,
   "id": "af19d8ca-3e23-46fb-8987-f460a5ec8bd4",
   "metadata": {},
   "outputs": [
    {
     "data": {
      "text/html": [
       "<i>Table length=280</i>\n",
       "<table id=\"table140074611613552\" class=\"table-striped table-bordered table-condensed\">\n",
       "<thead><tr><th>Name</th><th>Hubble</th><th>class</th><th>sigma</th><th>logMBH</th><th>log[OIII]</th><th>logEddRatio</th><th>det</th><th>morph</th><th>log(Lcore)</th><th>log(Ltotal)</th></tr></thead>\n",
       "<thead><tr><th>str7</th><th>str14</th><th>str7</th><th>str5</th><th>str8</th><th>str6</th><th>str5</th><th>str5</th><th>str1</th><th>str6</th><th>float64</th></tr></thead>\n",
       "<tr><td>NGC7817</td><td>SAbc</td><td>H</td><td>66.7</td><td>6.21</td><td>39.29</td><td>1.51</td><td>U</td><td>-</td><td>&lt;35.64</td><td>--</td></tr>\n",
       "<tr><td>IC10</td><td>IBm?</td><td>H</td><td>35.5</td><td>5.11</td><td>37.13</td><td>2.57</td><td>U</td><td>-</td><td>&lt;32.91</td><td>--</td></tr>\n",
       "<tr><td>NGC147</td><td>dE5pec</td><td>ALG</td><td>22.0</td><td>4.28</td><td>--</td><td>--</td><td>U</td><td>-</td><td>&lt;32.39</td><td>--</td></tr>\n",
       "<tr><td>NGC185</td><td>dE3pec</td><td>L</td><td>19.9</td><td>4.10</td><td>34.63</td><td>4.06</td><td>U</td><td>-</td><td>&lt;32.33</td><td>--</td></tr>\n",
       "<tr><td>NGC205</td><td>dE5pec</td><td>ALG</td><td>23.3</td><td>4.34^{*}</td><td>--</td><td>--</td><td>U</td><td>-</td><td>&lt;32.36</td><td>--</td></tr>\n",
       "<tr><td>NGC221</td><td>E2</td><td>ALG</td><td>72.1</td><td>6.36</td><td>--</td><td>--</td><td>U</td><td>-</td><td>&lt;32.33</td><td>--</td></tr>\n",
       "<tr><td>NGC224</td><td>SAb</td><td>ALG</td><td>169.8</td><td>7.84</td><td>--</td><td>--</td><td>U</td><td>-</td><td>&lt;32.32</td><td>--</td></tr>\n",
       "<tr><td>NGC266</td><td>SBab</td><td>L</td><td>229.6</td><td>8.37</td><td>39.43</td><td>3.53</td><td>I</td><td>A</td><td>36.94</td><td>37.02</td></tr>\n",
       "<tr><td>NGC278</td><td>SABb</td><td>H</td><td>47.6</td><td>5.62</td><td>37.47</td><td>2.74</td><td>I</td><td>A</td><td>34.81</td><td>35.83</td></tr>\n",
       "<tr><td>NGC315</td><td>E+</td><td>L^{RL}</td><td>303.7</td><td>8.92^{*}</td><td>39.43</td><td>4.02</td><td>I</td><td>A</td><td>39.58</td><td>39.61</td></tr>\n",
       "<tr><td>...</td><td>...</td><td>...</td><td>...</td><td>...</td><td>...</td><td>...</td><td>...</td><td>...</td><td>...</td><td>...</td></tr>\n",
       "<tr><td>NGC6946</td><td>SABcd</td><td>H</td><td>55.8</td><td>5.90</td><td>37.03</td><td>3.46</td><td>I</td><td>E</td><td>34.43</td><td>35.73</td></tr>\n",
       "<tr><td>NGC6951</td><td>SABbc</td><td>L</td><td>127.8</td><td>6.93^{*}</td><td>38.69</td><td>3.25</td><td>I</td><td>C</td><td>35.42</td><td>36.02</td></tr>\n",
       "<tr><td>NGC7080</td><td>SB(r)b</td><td>H</td><td>95.3</td><td>6.84</td><td>--</td><td>--</td><td>I</td><td>A</td><td>36.50</td><td>36.91</td></tr>\n",
       "<tr><td>NGC7217</td><td>SAab</td><td>L</td><td>141.4</td><td>7.52</td><td>38.31</td><td>3.80</td><td>I</td><td>C</td><td>35.09</td><td>35.87</td></tr>\n",
       "<tr><td>NGC7331</td><td>SAb</td><td>L</td><td>137.2</td><td>8.02^{*}</td><td>38.30</td><td>3.76</td><td>U</td><td>-</td><td>&lt;34.95</td><td>--</td></tr>\n",
       "<tr><td>NGC7332</td><td>SA0pec</td><td>ALG</td><td>124.1</td><td>7.08^{*}</td><td>--</td><td>--</td><td>U</td><td>-</td><td>&lt;35.18</td><td>--</td></tr>\n",
       "<tr><td>NGC7457</td><td>SA0?</td><td>ALG</td><td>69.4</td><td>6.95^{*}</td><td>--</td><td>--</td><td>U</td><td>-</td><td>&lt;34.88</td><td>--</td></tr>\n",
       "<tr><td>NGC7640</td><td>H</td><td>H</td><td>48.1</td><td>5.64</td><td>36.84</td><td>3.39</td><td>U</td><td>-</td><td>&lt;34.51</td><td>--</td></tr>\n",
       "<tr><td>NGC7741</td><td>SBcd</td><td>H</td><td>29.4</td><td>4.78</td><td>37.91</td><td>1.46</td><td>U</td><td>-</td><td>&lt;34.70</td><td>--</td></tr>\n",
       "<tr><td>NGC7798</td><td>S</td><td>jH</td><td>75.1</td><td>6.42</td><td>38.64</td><td>2.37</td><td>I</td><td>C</td><td>35.64</td><td>36.54</td></tr>\n",
       "</table>"
      ],
      "text/plain": [
       "<Table length=280>\n",
       "  Name  Hubble class  sigma  logMBH  ... det  morph log(Lcore) log(Ltotal)\n",
       "  str7  str14   str7   str5   str8   ... str5  str1    str6      float64  \n",
       "------- ------ ------ ----- -------- ... ---- ----- ---------- -----------\n",
       "NGC7817   SAbc      H  66.7     6.21 ...    U     -     <35.64          --\n",
       "   IC10   IBm?      H  35.5     5.11 ...    U     -     <32.91          --\n",
       " NGC147 dE5pec    ALG  22.0     4.28 ...    U     -     <32.39          --\n",
       " NGC185 dE3pec      L  19.9     4.10 ...    U     -     <32.33          --\n",
       " NGC205 dE5pec    ALG  23.3 4.34^{*} ...    U     -     <32.36          --\n",
       " NGC221     E2    ALG  72.1     6.36 ...    U     -     <32.33          --\n",
       " NGC224    SAb    ALG 169.8     7.84 ...    U     -     <32.32          --\n",
       " NGC266   SBab      L 229.6     8.37 ...    I     A      36.94       37.02\n",
       " NGC278   SABb      H  47.6     5.62 ...    I     A      34.81       35.83\n",
       " NGC315     E+ L^{RL} 303.7 8.92^{*} ...    I     A      39.58       39.61\n",
       "    ...    ...    ...   ...      ... ...  ...   ...        ...         ...\n",
       "NGC6946  SABcd      H  55.8     5.90 ...    I     E      34.43       35.73\n",
       "NGC6951  SABbc      L 127.8 6.93^{*} ...    I     C      35.42       36.02\n",
       "NGC7080 SB(r)b      H  95.3     6.84 ...    I     A      36.50       36.91\n",
       "NGC7217   SAab      L 141.4     7.52 ...    I     C      35.09       35.87\n",
       "NGC7331    SAb      L 137.2 8.02^{*} ...    U     -     <34.95          --\n",
       "NGC7332 SA0pec    ALG 124.1 7.08^{*} ...    U     -     <35.18          --\n",
       "NGC7457   SA0?    ALG  69.4 6.95^{*} ...    U     -     <34.88          --\n",
       "NGC7640      H      H  48.1     5.64 ...    U     -     <34.51          --\n",
       "NGC7741   SBcd      H  29.4     4.78 ...    U     -     <34.70          --\n",
       "NGC7798      S     jH  75.1     6.42 ...    I     C      35.64       36.54"
      ]
     },
     "execution_count": 28,
     "metadata": {},
     "output_type": "execute_result"
    }
   ],
   "source": [
    "Baldi3= Table.read('CatalogosRadio/Baldi3_tab_radio_opt.csv') #Leer tabla\n",
    "Baldi3"
   ]
  },
  {
   "cell_type": "markdown",
   "id": "e56cbde8-da63-4949-9c10-4c4ea2232506",
   "metadata": {},
   "source": [
    "### Nagar"
   ]
  },
  {
   "cell_type": "code",
   "execution_count": 29,
   "id": "3a4a7e5b-8ed5-42fe-b7e0-6d3aee9f92ad",
   "metadata": {},
   "outputs": [
    {
     "data": {
      "text/html": [
       "<i>Table length=197</i>\n",
       "<table id=\"table140074611741024\" class=\"table-striped table-bordered table-condensed\">\n",
       "<thead><tr><th>Name</th><th>AType</th><th>TType</th><th>Dist</th><th>Delta</th><th>Sp15GHz</th><th>l_St15GHz</th><th>St15GHz</th><th>l_Lp15GHz</th><th>Lp15GHz</th><th>Note</th><th>Simbad</th><th>NED</th><th>_RA</th><th>_DE</th></tr></thead>\n",
       "<thead><tr><th></th><th></th><th></th><th>Mpc</th><th>arcsec</th><th>mJy</th><th></th><th>mJy</th><th></th><th>W / Hz</th><th></th><th></th><th></th><th>deg</th><th>deg</th></tr></thead>\n",
       "<thead><tr><th>str7</th><th>str9</th><th>float32</th><th>float32</th><th>float32</th><th>float32</th><th>str1</th><th>float32</th><th>str1</th><th>float32</th><th>int16</th><th>str6</th><th>str3</th><th>float64</th><th>float64</th></tr></thead>\n",
       "<tr><td>IC239</td><td>L2::</td><td>6.0</td><td>16.8</td><td>--</td><td>--</td><td>&lt;</td><td>0.9</td><td>&lt;</td><td>19.48</td><td>--</td><td>Simbad</td><td>NED</td><td>39.1163</td><td>38.9690</td></tr>\n",
       "<tr><td>IC356</td><td>T2</td><td>2.0</td><td>18.1</td><td>--</td><td>--</td><td>&lt;</td><td>1.0</td><td>&lt;</td><td>19.59</td><td>4</td><td>Simbad</td><td>NED</td><td>61.9436</td><td>69.8126</td></tr>\n",
       "<tr><td>IC520</td><td>T2:</td><td>2.0</td><td>47.0</td><td>--</td><td>--</td><td>&lt;</td><td>1.0</td><td>&lt;</td><td>20.42</td><td>4</td><td>Simbad</td><td>NED</td><td>133.4258</td><td>73.4908</td></tr>\n",
       "<tr><td>IC1727</td><td>T2/L2</td><td>9.0</td><td>8.2</td><td>--</td><td>--</td><td>&lt;</td><td>0.9</td><td>&lt;</td><td>18.86</td><td>--</td><td>Simbad</td><td>NED</td><td>26.8748</td><td>27.3330</td></tr>\n",
       "<tr><td>NGC185</td><td>S2</td><td>-5.0</td><td>0.7</td><td>--</td><td>--</td><td>&lt;</td><td>1.1</td><td>&lt;</td><td>16.81</td><td>--</td><td>Simbad</td><td>NED</td><td>9.7392</td><td>48.3373</td></tr>\n",
       "<tr><td>NGC266</td><td>L1.9</td><td>2.0</td><td>62.4</td><td>2.0</td><td>4.1</td><td>--</td><td>4.1</td><td>--</td><td>21.28</td><td>--</td><td>Simbad</td><td>NED</td><td>12.4499</td><td>32.2776</td></tr>\n",
       "<tr><td>NGC315</td><td>L1.9</td><td>-4.0</td><td>65.8</td><td>--</td><td>470.0</td><td>--</td><td>--</td><td>--</td><td>23.39</td><td>9</td><td>Simbad</td><td>NED</td><td>14.4537</td><td>30.3524</td></tr>\n",
       "<tr><td>NGC404</td><td>L2</td><td>-3.0</td><td>2.4</td><td>--</td><td>--</td><td>&lt;</td><td>1.3</td><td>&lt;</td><td>17.95</td><td>--</td><td>Simbad</td><td>NED</td><td>17.3626</td><td>35.7180</td></tr>\n",
       "<tr><td>NGC410</td><td>T2:</td><td>-4.0</td><td>70.6</td><td>--</td><td>--</td><td>&lt;</td><td>1.0</td><td>&lt;</td><td>20.78</td><td>4</td><td>Simbad</td><td>NED</td><td>17.7460</td><td>33.1520</td></tr>\n",
       "<tr><td>...</td><td>...</td><td>...</td><td>...</td><td>...</td><td>...</td><td>...</td><td>...</td><td>...</td><td>...</td><td>...</td><td>...</td><td>...</td><td>...</td><td>...</td></tr>\n",
       "<tr><td>NGC6703</td><td>L2::</td><td>-2.5</td><td>35.9</td><td>--</td><td>--</td><td>&lt;</td><td>1.5</td><td>&lt;</td><td>20.36</td><td>--</td><td>Simbad</td><td>NED</td><td>281.8286</td><td>45.5503</td></tr>\n",
       "<tr><td>NGC6951</td><td>S2</td><td>4.0</td><td>24.1</td><td>--</td><td>--</td><td>&lt;</td><td>1.5</td><td>&lt;</td><td>20.02</td><td>--</td><td>Simbad</td><td>NED</td><td>309.3100</td><td>66.1055</td></tr>\n",
       "<tr><td>NGC7177</td><td>T2</td><td>3.0</td><td>18.2</td><td>--</td><td>--</td><td>&lt;</td><td>1.1</td><td>&lt;</td><td>19.64</td><td>--</td><td>Simbad</td><td>NED</td><td>330.1719</td><td>17.7379</td></tr>\n",
       "<tr><td>NGC7217</td><td>L2</td><td>2.0</td><td>16.0</td><td>2.9</td><td>--</td><td>&lt;</td><td>0.6</td><td>&lt;</td><td>19.23</td><td>2</td><td>Simbad</td><td>NED</td><td>331.9692</td><td>31.3591</td></tr>\n",
       "<tr><td>NGC7331</td><td>T2</td><td>3.0</td><td>14.3</td><td>--</td><td>--</td><td>&lt;</td><td>1.1</td><td>&lt;</td><td>19.43</td><td>--</td><td>Simbad</td><td>NED</td><td>339.2679</td><td>34.4162</td></tr>\n",
       "<tr><td>NGC7479</td><td>S1.9</td><td>5.0</td><td>32.4</td><td>1.0</td><td>2.4</td><td>--</td><td>2.5</td><td>--</td><td>20.48</td><td>--</td><td>Simbad</td><td>NED</td><td>346.2362</td><td>12.3231</td></tr>\n",
       "<tr><td>NGC7626</td><td>L2::</td><td>-5.0</td><td>45.6</td><td>2.9</td><td>39.8</td><td>--</td><td>40.0</td><td>--</td><td>22.00</td><td>--</td><td>Simbad</td><td>NED</td><td>350.1778</td><td>8.2164</td></tr>\n",
       "<tr><td>NGC7742</td><td>T2/L2</td><td>3.0</td><td>22.2</td><td>--</td><td>--</td><td>&lt;</td><td>1.1</td><td>&lt;</td><td>19.81</td><td>--</td><td>Simbad</td><td>NED</td><td>356.0661</td><td>10.7669</td></tr>\n",
       "<tr><td>NGC7743</td><td>S2</td><td>-1.0</td><td>24.4</td><td>1.1</td><td>1.0</td><td>--</td><td>1.5</td><td>--</td><td>19.85</td><td>--</td><td>Simbad</td><td>NED</td><td>356.0893</td><td>9.9343</td></tr>\n",
       "<tr><td>NGC7814</td><td>L2::</td><td>2.0</td><td>15.1</td><td>--</td><td>--</td><td>&lt;</td><td>1.1</td><td>&lt;</td><td>19.48</td><td>--</td><td>Simbad</td><td>NED</td><td>0.8121</td><td>16.1454</td></tr>\n",
       "</table>"
      ],
      "text/plain": [
       "<Table length=197>\n",
       "  Name  AType  TType    Dist   Delta  ...  Note Simbad NED    _RA      _DE   \n",
       "                        Mpc    arcsec ...                     deg      deg   \n",
       "  str7   str9 float32 float32 float32 ... int16  str6  str3 float64  float64 \n",
       "------- ----- ------- ------- ------- ... ----- ------ ---- -------- --------\n",
       "  IC239  L2::     6.0    16.8      -- ...    -- Simbad  NED  39.1163  38.9690\n",
       "  IC356    T2     2.0    18.1      -- ...     4 Simbad  NED  61.9436  69.8126\n",
       "  IC520   T2:     2.0    47.0      -- ...     4 Simbad  NED 133.4258  73.4908\n",
       " IC1727 T2/L2     9.0     8.2      -- ...    -- Simbad  NED  26.8748  27.3330\n",
       " NGC185    S2    -5.0     0.7      -- ...    -- Simbad  NED   9.7392  48.3373\n",
       " NGC266  L1.9     2.0    62.4     2.0 ...    -- Simbad  NED  12.4499  32.2776\n",
       " NGC315  L1.9    -4.0    65.8      -- ...     9 Simbad  NED  14.4537  30.3524\n",
       " NGC404    L2    -3.0     2.4      -- ...    -- Simbad  NED  17.3626  35.7180\n",
       " NGC410   T2:    -4.0    70.6      -- ...     4 Simbad  NED  17.7460  33.1520\n",
       "    ...   ...     ...     ...     ... ...   ...    ...  ...      ...      ...\n",
       "NGC6703  L2::    -2.5    35.9      -- ...    -- Simbad  NED 281.8286  45.5503\n",
       "NGC6951    S2     4.0    24.1      -- ...    -- Simbad  NED 309.3100  66.1055\n",
       "NGC7177    T2     3.0    18.2      -- ...    -- Simbad  NED 330.1719  17.7379\n",
       "NGC7217    L2     2.0    16.0     2.9 ...     2 Simbad  NED 331.9692  31.3591\n",
       "NGC7331    T2     3.0    14.3      -- ...    -- Simbad  NED 339.2679  34.4162\n",
       "NGC7479  S1.9     5.0    32.4     1.0 ...    -- Simbad  NED 346.2362  12.3231\n",
       "NGC7626  L2::    -5.0    45.6     2.9 ...    -- Simbad  NED 350.1778   8.2164\n",
       "NGC7742 T2/L2     3.0    22.2      -- ...    -- Simbad  NED 356.0661  10.7669\n",
       "NGC7743    S2    -1.0    24.4     1.1 ...    -- Simbad  NED 356.0893   9.9343\n",
       "NGC7814  L2::     2.0    15.1      -- ...    -- Simbad  NED   0.8121  16.1454"
      ]
     },
     "execution_count": 29,
     "metadata": {},
     "output_type": "execute_result"
    }
   ],
   "source": [
    "Nagar= Table.read('CatalogosRadio/catalogo_Nagar.ecsv') #Leer tabla\n",
    "Nagar"
   ]
  },
  {
   "cell_type": "markdown",
   "id": "e25ddc71-0c96-4c0e-a145-19494476eefc",
   "metadata": {},
   "source": [
    "\n",
    "# Crossmacth, por nombre\n",
    "\n",
    "&nbsp;\n",
    "Se define una función que tiene como entrada dos tablas y la columna respectiva a cada una para hacer el crossmatch. \n",
    "\n",
    "&nbsp;\n",
    " --> Para cada elemento hacemos in .replace(\" \",\"\"), así eliminamos posibles diferencias de lectura (solo nos centramos en los caracteres tales que sean numeros o letras).\n",
    "\n",
    "&nbsp;\n",
    "El otro parametro que entramos es: matched. Será una lista que habrá que definir como vacía cada vez que se llame a la función.\n"
   ]
  },
  {
   "cell_type": "code",
   "execution_count": 30,
   "id": "1a4dad98-1172-4b80-b8f4-403f9ac0c426",
   "metadata": {},
   "outputs": [],
   "source": [
    "p =0\n",
    "\n",
    "def crosstable (table_1, col1, table_2,col2,matched,cols):\n",
    "    p = 0\n",
    "    for i in table_1[col1]:\n",
    "        i = i.replace(\" \",\"\")\n",
    "        for a in table_2[col2]:\n",
    "            a = a.replace(\" \",\"\")\n",
    "            if (i == a):\n",
    "                matched.append(i)\n",
    "                p = p+1\n",
    "    print (p)\n",
    "    matched = pd.DataFrame(matched,columns=cols)\n",
    "    \n",
    "    return matched\n"
   ]
  },
  {
   "cell_type": "markdown",
   "id": "d71ed9d6-e71c-4c0b-9f4f-679d56f985bd",
   "metadata": {},
   "source": [
    "# Crossmatch, por coordenadas"
   ]
  },
  {
   "cell_type": "markdown",
   "id": "575c8786-6081-4889-bbad-affe7c6ae6a5",
   "metadata": {},
   "source": [
    "Definimos las SkyCoord de cada catalogo y hacemos un match entre ellos.  \n",
    "idx = indice del objeto en el catalogo 2  \n",
    "d2d = la distancia 2d entre ellos  \n",
    "d3d = distancia 3d entre ellos.  "
   ]
  },
  {
   "cell_type": "code",
   "execution_count": 31,
   "id": "812c78ee-4b66-4d1b-954c-480befd9b6ab",
   "metadata": {},
   "outputs": [],
   "source": [
    "S1RA = Saikia1['RA']\n",
    "S1DEC = Saikia1['Dec']\n",
    "S1coord = SkyCoord(ra=S1RA, dec=S1DEC, frame=\"icrs\", unit=(u.hourangle, u.deg))\n",
    "\n",
    "LRA = laura['RA']\n",
    "LDEC = laura['DEC']\n",
    "Lcoord= SkyCoord(ra= LRA, dec=LDEC, frame=\"icrs\",unit=(u.hourangle, u.deg))\n",
    "\n",
    "BRA = Baldi['RA']\n",
    "BDEC = Baldi['DEC']\n",
    "Bcoord= SkyCoord(ra= BRA, dec=BDEC, frame=\"icrs\",unit=(u.hourangle, u.deg))\n",
    "\n",
    "NRA = Nagar['_RA']\n",
    "NDEC = Nagar['_DE']\n",
    "Ncoord= SkyCoord(ra= NRA, dec=NDEC, frame=\"icrs\",unit=(u.hourangle, u.deg))\n",
    "\n"
   ]
  },
  {
   "cell_type": "markdown",
   "id": "2862ebe5-64dd-40b5-aa30-713738945132",
   "metadata": {},
   "source": [
    "# Función final\n",
    "\n",
    "Funcion: Crear una tabla con los objetos coincidentes(en coordenadas) entre dos catálogos.  \n",
    "Parámetros:  \n",
    "    - SkyCoord catálogo 1 (input)  \n",
    "    - SkyCoord catálogo 2 (input)  \n",
    "    - Máxima separación (input)  \n",
    "    - Tabla de salida (input/output)  \n",
    "    - Catálogo de referencia (input)\n",
    "    - 5 parametros: columnas en la tabla, segun su nombre en el catálogo de referencia"
   ]
  },
  {
   "cell_type": "code",
   "execution_count": 32,
   "id": "58a84874-b025-4c21-9230-3704e215347f",
   "metadata": {},
   "outputs": [],
   "source": [
    "def crosstable_c (cat1,cat2,max_sep,t1,tabref,params):\n",
    "    idx, d2d, d3d = cat1.match_to_catalog_3d(cat2)\n",
    "    sep_constraint = d2d < max_sep\n",
    "    c1_matches = cat1[sep_constraint]\n",
    "    c2_matches_coord = cat2[idx[sep_constraint]]\n",
    "    t1 = tabref[idx[sep_constraint]]\n",
    "    t1.to_pandas()\n",
    "    t1 = t1[params]\n",
    "    return t1\n",
    "\n"
   ]
  },
  {
   "cell_type": "markdown",
   "id": "1eb59b0b-17f8-4171-88cd-e2c1957c64d9",
   "metadata": {},
   "source": [
    "# Laura - Saikia"
   ]
  },
  {
   "cell_type": "code",
   "execution_count": 33,
   "id": "892a3b74-e633-42be-803f-ba0769550a66",
   "metadata": {},
   "outputs": [
    {
     "name": "stdout",
     "output_type": "stream",
     "text": [
      "10\n"
     ]
    }
   ],
   "source": [
    "matchedA=[]        \n",
    "\n",
    "matchedA = crosstable(laura, 'Name', Saikia1, 'Name', matchedA, ['Name'])     "
   ]
  },
  {
   "cell_type": "code",
   "execution_count": 34,
   "id": "05b7eeff-1edf-495e-9802-a8ef6755fddb",
   "metadata": {},
   "outputs": [],
   "source": [
    "CM_L_S =[]\n",
    "CM_L_S = crosstable_c(Lcoord,S1coord,0.001*u.deg,CM_L_S,Saikia1,['Name','RA','Dec','Beam','BPA', 'Speak', 'RMS'])\n",
    "CM_L_S\n",
    "\n",
    "CM_L_S.write('CatalogosRadio/CM_L_S', format='ascii.ecsv', overwrite=True) "
   ]
  },
  {
   "cell_type": "code",
   "execution_count": 35,
   "id": "474b0ac8-9350-48d3-83a4-ed2c42c2c52e",
   "metadata": {
    "tags": []
   },
   "outputs": [
    {
     "data": {
      "text/html": [
       "<div>\n",
       "<style scoped>\n",
       "    .dataframe tbody tr th:only-of-type {\n",
       "        vertical-align: middle;\n",
       "    }\n",
       "\n",
       "    .dataframe tbody tr th {\n",
       "        vertical-align: top;\n",
       "    }\n",
       "\n",
       "    .dataframe thead th {\n",
       "        text-align: right;\n",
       "    }\n",
       "</style>\n",
       "<table border=\"1\" class=\"dataframe\">\n",
       "  <thead>\n",
       "    <tr style=\"text-align: right;\">\n",
       "      <th></th>\n",
       "      <th>Name</th>\n",
       "    </tr>\n",
       "  </thead>\n",
       "  <tbody>\n",
       "    <tr>\n",
       "      <th>0</th>\n",
       "      <td>NGC410</td>\n",
       "    </tr>\n",
       "    <tr>\n",
       "      <th>1</th>\n",
       "      <td>NGC841</td>\n",
       "    </tr>\n",
       "    <tr>\n",
       "      <th>2</th>\n",
       "      <td>NGC2681</td>\n",
       "    </tr>\n",
       "    <tr>\n",
       "      <th>3</th>\n",
       "      <td>NGC3642</td>\n",
       "    </tr>\n",
       "    <tr>\n",
       "      <th>4</th>\n",
       "      <td>NGC3898</td>\n",
       "    </tr>\n",
       "    <tr>\n",
       "      <th>5</th>\n",
       "      <td>NGC4036</td>\n",
       "    </tr>\n",
       "    <tr>\n",
       "      <th>6</th>\n",
       "      <td>NGC4111</td>\n",
       "    </tr>\n",
       "    <tr>\n",
       "      <th>7</th>\n",
       "      <td>NGC4750</td>\n",
       "    </tr>\n",
       "    <tr>\n",
       "      <th>8</th>\n",
       "      <td>NGC5746</td>\n",
       "    </tr>\n",
       "    <tr>\n",
       "      <th>9</th>\n",
       "      <td>NGC6482</td>\n",
       "    </tr>\n",
       "  </tbody>\n",
       "</table>\n",
       "</div>"
      ],
      "text/plain": [
       "      Name\n",
       "0   NGC410\n",
       "1   NGC841\n",
       "2  NGC2681\n",
       "3  NGC3642\n",
       "4  NGC3898\n",
       "5  NGC4036\n",
       "6  NGC4111\n",
       "7  NGC4750\n",
       "8  NGC5746\n",
       "9  NGC6482"
      ]
     },
     "execution_count": 35,
     "metadata": {},
     "output_type": "execute_result"
    }
   ],
   "source": [
    "matchedA"
   ]
  },
  {
   "cell_type": "markdown",
   "id": "b5615049-b708-4649-b74d-34a2a0739d75",
   "metadata": {},
   "source": [
    "# Laura - Baldi"
   ]
  },
  {
   "cell_type": "code",
   "execution_count": 36,
   "id": "fd72c613-8949-4333-93ec-713dd486f11d",
   "metadata": {},
   "outputs": [
    {
     "name": "stdout",
     "output_type": "stream",
     "text": [
      "13\n"
     ]
    }
   ],
   "source": [
    "matchedB=[]        \n",
    "\n",
    "matchedB = crosstable(laura, 'Name', Baldi, 'Name', matchedB,['Name'])     \n",
    "\n",
    "\n",
    "CM_L_B =[]\n",
    "CM_L_B = crosstable_c(Lcoord,Bcoord,0.001*u.deg,CM_L_B,Baldi,['Name','RA','DEC','Beam','Q','PA', 'det', 'morph'])\n",
    "CM_L_B\n",
    "CM_L_B.write('CatalogosRadio/CM_L_B', format='ascii.ecsv', overwrite=True) "
   ]
  },
  {
   "cell_type": "code",
   "execution_count": 37,
   "id": "f2afa79c-3fa8-4437-bd94-fb9a825cd55f",
   "metadata": {
    "tags": []
   },
   "outputs": [
    {
     "data": {
      "text/html": [
       "<div>\n",
       "<style scoped>\n",
       "    .dataframe tbody tr th:only-of-type {\n",
       "        vertical-align: middle;\n",
       "    }\n",
       "\n",
       "    .dataframe tbody tr th {\n",
       "        vertical-align: top;\n",
       "    }\n",
       "\n",
       "    .dataframe thead th {\n",
       "        text-align: right;\n",
       "    }\n",
       "</style>\n",
       "<table border=\"1\" class=\"dataframe\">\n",
       "  <thead>\n",
       "    <tr style=\"text-align: right;\">\n",
       "      <th></th>\n",
       "      <th>Name</th>\n",
       "    </tr>\n",
       "  </thead>\n",
       "  <tbody>\n",
       "    <tr>\n",
       "      <th>0</th>\n",
       "      <td>NGC266</td>\n",
       "    </tr>\n",
       "    <tr>\n",
       "      <th>1</th>\n",
       "      <td>NGC315</td>\n",
       "    </tr>\n",
       "    <tr>\n",
       "      <th>2</th>\n",
       "      <td>NGC410</td>\n",
       "    </tr>\n",
       "    <tr>\n",
       "      <th>3</th>\n",
       "      <td>NGC841</td>\n",
       "    </tr>\n",
       "    <tr>\n",
       "      <th>4</th>\n",
       "      <td>NGC2639</td>\n",
       "    </tr>\n",
       "    <tr>\n",
       "      <th>5</th>\n",
       "      <td>NGC2655</td>\n",
       "    </tr>\n",
       "    <tr>\n",
       "      <th>6</th>\n",
       "      <td>NGC2681</td>\n",
       "    </tr>\n",
       "    <tr>\n",
       "      <th>7</th>\n",
       "      <td>NGC2841</td>\n",
       "    </tr>\n",
       "    <tr>\n",
       "      <th>8</th>\n",
       "      <td>NGC3414</td>\n",
       "    </tr>\n",
       "    <tr>\n",
       "      <th>9</th>\n",
       "      <td>NGC5005</td>\n",
       "    </tr>\n",
       "    <tr>\n",
       "      <th>10</th>\n",
       "      <td>NGC5055</td>\n",
       "    </tr>\n",
       "    <tr>\n",
       "      <th>11</th>\n",
       "      <td>NGC5866</td>\n",
       "    </tr>\n",
       "    <tr>\n",
       "      <th>12</th>\n",
       "      <td>NGC7331</td>\n",
       "    </tr>\n",
       "  </tbody>\n",
       "</table>\n",
       "</div>"
      ],
      "text/plain": [
       "       Name\n",
       "0    NGC266\n",
       "1    NGC315\n",
       "2    NGC410\n",
       "3    NGC841\n",
       "4   NGC2639\n",
       "5   NGC2655\n",
       "6   NGC2681\n",
       "7   NGC2841\n",
       "8   NGC3414\n",
       "9   NGC5005\n",
       "10  NGC5055\n",
       "11  NGC5866\n",
       "12  NGC7331"
      ]
     },
     "execution_count": 37,
     "metadata": {},
     "output_type": "execute_result"
    }
   ],
   "source": [
    "matchedB"
   ]
  },
  {
   "cell_type": "markdown",
   "id": "ccc6519d-bbcd-45d9-88f3-388d559dfb02",
   "metadata": {},
   "source": [
    "# Laura -Baldi 3  \n",
    "Solo se puede hacer por nombre porque en la tabla no hay coordenadas. Se podrían buscar.   \n",
    "De momento los casos particulares, los gestiono individualmente."
   ]
  },
  {
   "cell_type": "code",
   "execution_count": 38,
   "id": "ce08031b-b1df-482d-8f4e-82e6ce995bb1",
   "metadata": {
    "tags": []
   },
   "outputs": [
    {
     "name": "stdout",
     "output_type": "stream",
     "text": [
      "35\n"
     ]
    },
    {
     "data": {
      "text/html": [
       "<div>\n",
       "<style scoped>\n",
       "    .dataframe tbody tr th:only-of-type {\n",
       "        vertical-align: middle;\n",
       "    }\n",
       "\n",
       "    .dataframe tbody tr th {\n",
       "        vertical-align: top;\n",
       "    }\n",
       "\n",
       "    .dataframe thead th {\n",
       "        text-align: right;\n",
       "    }\n",
       "</style>\n",
       "<table border=\"1\" class=\"dataframe\">\n",
       "  <thead>\n",
       "    <tr style=\"text-align: right;\">\n",
       "      <th></th>\n",
       "      <th>Name</th>\n",
       "    </tr>\n",
       "  </thead>\n",
       "  <tbody>\n",
       "    <tr>\n",
       "      <th>0</th>\n",
       "      <td>NGC266</td>\n",
       "    </tr>\n",
       "    <tr>\n",
       "      <th>1</th>\n",
       "      <td>NGC315</td>\n",
       "    </tr>\n",
       "    <tr>\n",
       "      <th>2</th>\n",
       "      <td>NGC410</td>\n",
       "    </tr>\n",
       "    <tr>\n",
       "      <th>3</th>\n",
       "      <td>NGC841</td>\n",
       "    </tr>\n",
       "    <tr>\n",
       "      <th>4</th>\n",
       "      <td>NGC2639</td>\n",
       "    </tr>\n",
       "    <tr>\n",
       "      <th>5</th>\n",
       "      <td>NGC2655</td>\n",
       "    </tr>\n",
       "    <tr>\n",
       "      <th>6</th>\n",
       "      <td>NGC2681</td>\n",
       "    </tr>\n",
       "    <tr>\n",
       "      <th>7</th>\n",
       "      <td>NGC2685</td>\n",
       "    </tr>\n",
       "    <tr>\n",
       "      <th>8</th>\n",
       "      <td>NGC2787</td>\n",
       "    </tr>\n",
       "    <tr>\n",
       "      <th>9</th>\n",
       "      <td>NGC2841</td>\n",
       "    </tr>\n",
       "    <tr>\n",
       "      <th>10</th>\n",
       "      <td>NGC3185</td>\n",
       "    </tr>\n",
       "    <tr>\n",
       "      <th>11</th>\n",
       "      <td>NGC3245</td>\n",
       "    </tr>\n",
       "    <tr>\n",
       "      <th>12</th>\n",
       "      <td>NGC3414</td>\n",
       "    </tr>\n",
       "    <tr>\n",
       "      <th>13</th>\n",
       "      <td>NGC3642</td>\n",
       "    </tr>\n",
       "    <tr>\n",
       "      <th>14</th>\n",
       "      <td>NGC3718</td>\n",
       "    </tr>\n",
       "    <tr>\n",
       "      <th>15</th>\n",
       "      <td>NGC3884</td>\n",
       "    </tr>\n",
       "    <tr>\n",
       "      <th>16</th>\n",
       "      <td>NGC3898</td>\n",
       "    </tr>\n",
       "    <tr>\n",
       "      <th>17</th>\n",
       "      <td>NGC3945</td>\n",
       "    </tr>\n",
       "    <tr>\n",
       "      <th>18</th>\n",
       "      <td>NGC3998</td>\n",
       "    </tr>\n",
       "    <tr>\n",
       "      <th>19</th>\n",
       "      <td>NGC4036</td>\n",
       "    </tr>\n",
       "    <tr>\n",
       "      <th>20</th>\n",
       "      <td>NGC4111</td>\n",
       "    </tr>\n",
       "    <tr>\n",
       "      <th>21</th>\n",
       "      <td>NGC4125</td>\n",
       "    </tr>\n",
       "    <tr>\n",
       "      <th>22</th>\n",
       "      <td>NGC4143</td>\n",
       "    </tr>\n",
       "    <tr>\n",
       "      <th>23</th>\n",
       "      <td>NGC4203</td>\n",
       "    </tr>\n",
       "    <tr>\n",
       "      <th>24</th>\n",
       "      <td>NGC4278</td>\n",
       "    </tr>\n",
       "    <tr>\n",
       "      <th>25</th>\n",
       "      <td>NGC4314</td>\n",
       "    </tr>\n",
       "    <tr>\n",
       "      <th>26</th>\n",
       "      <td>NGC4494</td>\n",
       "    </tr>\n",
       "    <tr>\n",
       "      <th>27</th>\n",
       "      <td>NGC4589</td>\n",
       "    </tr>\n",
       "    <tr>\n",
       "      <th>28</th>\n",
       "      <td>NGC4736</td>\n",
       "    </tr>\n",
       "    <tr>\n",
       "      <th>29</th>\n",
       "      <td>NGC4750</td>\n",
       "    </tr>\n",
       "    <tr>\n",
       "      <th>30</th>\n",
       "      <td>NGC5005</td>\n",
       "    </tr>\n",
       "    <tr>\n",
       "      <th>31</th>\n",
       "      <td>NGC5055</td>\n",
       "    </tr>\n",
       "    <tr>\n",
       "      <th>32</th>\n",
       "      <td>NGC5866</td>\n",
       "    </tr>\n",
       "    <tr>\n",
       "      <th>33</th>\n",
       "      <td>NGC6482</td>\n",
       "    </tr>\n",
       "    <tr>\n",
       "      <th>34</th>\n",
       "      <td>NGC7331</td>\n",
       "    </tr>\n",
       "  </tbody>\n",
       "</table>\n",
       "</div>"
      ],
      "text/plain": [
       "       Name\n",
       "0    NGC266\n",
       "1    NGC315\n",
       "2    NGC410\n",
       "3    NGC841\n",
       "4   NGC2639\n",
       "5   NGC2655\n",
       "6   NGC2681\n",
       "7   NGC2685\n",
       "8   NGC2787\n",
       "9   NGC2841\n",
       "10  NGC3185\n",
       "11  NGC3245\n",
       "12  NGC3414\n",
       "13  NGC3642\n",
       "14  NGC3718\n",
       "15  NGC3884\n",
       "16  NGC3898\n",
       "17  NGC3945\n",
       "18  NGC3998\n",
       "19  NGC4036\n",
       "20  NGC4111\n",
       "21  NGC4125\n",
       "22  NGC4143\n",
       "23  NGC4203\n",
       "24  NGC4278\n",
       "25  NGC4314\n",
       "26  NGC4494\n",
       "27  NGC4589\n",
       "28  NGC4736\n",
       "29  NGC4750\n",
       "30  NGC5005\n",
       "31  NGC5055\n",
       "32  NGC5866\n",
       "33  NGC6482\n",
       "34  NGC7331"
      ]
     },
     "execution_count": 38,
     "metadata": {},
     "output_type": "execute_result"
    }
   ],
   "source": [
    "matchedB3=[]        \n",
    "\n",
    "matchedB3 = crosstable(laura, 'Name', Baldi3, 'Name', matchedB3,['Name']) \n",
    "\n",
    "matchedB3"
   ]
  },
  {
   "cell_type": "code",
   "execution_count": 39,
   "id": "e0970de4-6100-42dc-b309-760ae1410b67",
   "metadata": {},
   "outputs": [
    {
     "data": {
      "text/plain": [
       "'\\n\\np=0\\n#def tablaB3 (crossmatched,tableref,name,morph,obj):\\ndef tablaB3(crossmatched, tableref, name, Hubble, det, morph,LogLcore, LogLtot, objeto):\\n    Hubbletab = []\\n    classtab = []\\n    namestab = []\\n    dettab= []\\n    morphtab= []\\n    logLcoretab =[]\\n    logLtottab=[]\\n     \\n    p = 0\\n    for a in tableref[name]:\\n        a = a.replace(\" \",\"\")\\n        for i in crossmatched[objeto]:\\n            i = i.replace(\" \",\"\")\\n            if i == a:\\n                Hubblei=tableref[Hubble][p]\\n                Hubbletab.append(Hubblei)\\n                ID= tableref[name][p]\\n                namestab.append(ID)\\n                deti=tableref[det][p]\\n                dettab.append(deti)\\n                morphi=tableref[morph][p]\\n                morphtab.append(morphi)\\n                Lcorei=tableref[LogLcore][p]\\n                logLcoretab.append(Lcorei)\\n                Ltoti=tableref[LogLtot][p]\\n                logLtottab.append(Ltoti)\\n            \\n        p = p+1\\n\\n    tabla = []        \\n    for n,m,h in zip (namestab, Hubbletab, morphtab):\\n        linea = [n,m,h]\\n        tabla.append(linea)\\n           \\n    tabla3=(pd.DataFrame(tabla, columns=[\\'Name\\', \\'Hubble\\', \\'morph\\']))\\n   \\n    \\n\\n    return tabla3\\n    \\n'"
      ]
     },
     "execution_count": 39,
     "metadata": {},
     "output_type": "execute_result"
    }
   ],
   "source": [
    "'''\n",
    "\n",
    "p=0\n",
    "#def tablaB3 (crossmatched,tableref,name,morph,obj):\n",
    "def tablaB3(crossmatched, tableref, name, Hubble, det, morph,LogLcore, LogLtot, objeto):\n",
    "    Hubbletab = []\n",
    "    classtab = []\n",
    "    namestab = []\n",
    "    dettab= []\n",
    "    morphtab= []\n",
    "    logLcoretab =[]\n",
    "    logLtottab=[]\n",
    "     \n",
    "    p = 0\n",
    "    for a in tableref[name]:\n",
    "        a = a.replace(\" \",\"\")\n",
    "        for i in crossmatched[objeto]:\n",
    "            i = i.replace(\" \",\"\")\n",
    "            if i == a:\n",
    "                Hubblei=tableref[Hubble][p]\n",
    "                Hubbletab.append(Hubblei)\n",
    "                ID= tableref[name][p]\n",
    "                namestab.append(ID)\n",
    "                deti=tableref[det][p]\n",
    "                dettab.append(deti)\n",
    "                morphi=tableref[morph][p]\n",
    "                morphtab.append(morphi)\n",
    "                Lcorei=tableref[LogLcore][p]\n",
    "                logLcoretab.append(Lcorei)\n",
    "                Ltoti=tableref[LogLtot][p]\n",
    "                logLtottab.append(Ltoti)\n",
    "            \n",
    "        p = p+1\n",
    "\n",
    "    tabla = []        \n",
    "    for n,m,h in zip (namestab, Hubbletab, morphtab):\n",
    "        linea = [n,m,h]\n",
    "        tabla.append(linea)\n",
    "           \n",
    "    tabla3=(pd.DataFrame(tabla, columns=['Name', 'Hubble', 'morph']))\n",
    "   \n",
    "    \n",
    "\n",
    "    return tabla3\n",
    "    \n",
    "'''"
   ]
  },
  {
   "cell_type": "markdown",
   "id": "eff479d7-7c2d-48fe-a843-079dfb02202f",
   "metadata": {
    "tags": []
   },
   "source": [
    "#Baldi3.to_pandas()\n",
    "\n",
    "#tb3=tablaB3(matchedB3,Baldi3,'Name','Hubble', 'det', 'morph','log(Lcore)', 'log(Ltotal)', 'Name')\n",
    "#tb3"
   ]
  },
  {
   "cell_type": "code",
   "execution_count": 40,
   "id": "a99f4b01-4097-457e-a4b1-b74eba19e7e7",
   "metadata": {},
   "outputs": [],
   "source": [
    "\n",
    "\n",
    "matchedB3=Table.from_pandas(matchedB3)\n",
    "\n"
   ]
  },
  {
   "cell_type": "code",
   "execution_count": 41,
   "id": "7220a9fc-523e-4bd6-9354-55370c4ffb1c",
   "metadata": {},
   "outputs": [],
   "source": [
    "CM_L_B3 =join(matchedB3,Baldi3,keys=\"Name\")\n",
    "\n",
    "\n",
    "CM_L_B3.write('CatalogosRadio/CM_L_B3', format='ascii.ecsv', overwrite=True) "
   ]
  },
  {
   "cell_type": "code",
   "execution_count": null,
   "id": "dfeb185e-77ca-4832-b810-6acbd550dd4c",
   "metadata": {},
   "outputs": [],
   "source": [
    "\n"
   ]
  },
  {
   "cell_type": "markdown",
   "id": "de91773a-3d6a-4e0d-8926-9340879cc098",
   "metadata": {},
   "source": [
    "# Laura - Nagar"
   ]
  },
  {
   "cell_type": "code",
   "execution_count": 42,
   "id": "704463cc-815d-4b08-a8fd-e77d5ebcb70e",
   "metadata": {},
   "outputs": [
    {
     "name": "stdout",
     "output_type": "stream",
     "text": [
      "62\n"
     ]
    }
   ],
   "source": [
    "matchedC=[]        \n",
    "\n",
    "matchedC = crosstable(laura, 'Name', Nagar, 'Name', matchedC, ['Name'])     \n",
    "\n",
    "\n",
    "CM_L_N =[]\n",
    "CM_L_N = crosstable_c(Lcoord,Ncoord,0.001*u.deg,CM_L_N,Nagar,['Name','_RA','_DE','AType','Lp15GHz', 'Dist', 'St15GHz'])\n",
    "\n",
    "\n",
    "CM_L_N.write('CatalogosRadio/CM_L_N', format='ascii.ecsv', overwrite=True) \n"
   ]
  },
  {
   "cell_type": "code",
   "execution_count": 43,
   "id": "f0b0c50d-d383-438e-856c-07350bfabb58",
   "metadata": {},
   "outputs": [
    {
     "data": {
      "text/html": [
       "<div>\n",
       "<style scoped>\n",
       "    .dataframe tbody tr th:only-of-type {\n",
       "        vertical-align: middle;\n",
       "    }\n",
       "\n",
       "    .dataframe tbody tr th {\n",
       "        vertical-align: top;\n",
       "    }\n",
       "\n",
       "    .dataframe thead th {\n",
       "        text-align: right;\n",
       "    }\n",
       "</style>\n",
       "<table border=\"1\" class=\"dataframe\">\n",
       "  <thead>\n",
       "    <tr style=\"text-align: right;\">\n",
       "      <th></th>\n",
       "      <th>Name</th>\n",
       "    </tr>\n",
       "  </thead>\n",
       "  <tbody>\n",
       "    <tr>\n",
       "      <th>0</th>\n",
       "      <td>NGC266</td>\n",
       "    </tr>\n",
       "    <tr>\n",
       "      <th>1</th>\n",
       "      <td>NGC315</td>\n",
       "    </tr>\n",
       "    <tr>\n",
       "      <th>2</th>\n",
       "      <td>NGC410</td>\n",
       "    </tr>\n",
       "    <tr>\n",
       "      <th>3</th>\n",
       "      <td>NGC474</td>\n",
       "    </tr>\n",
       "    <tr>\n",
       "      <th>4</th>\n",
       "      <td>NGC524</td>\n",
       "    </tr>\n",
       "    <tr>\n",
       "      <th>...</th>\n",
       "      <td>...</td>\n",
       "    </tr>\n",
       "    <tr>\n",
       "      <th>57</th>\n",
       "      <td>NGC5846</td>\n",
       "    </tr>\n",
       "    <tr>\n",
       "      <th>58</th>\n",
       "      <td>NGC5866</td>\n",
       "    </tr>\n",
       "    <tr>\n",
       "      <th>59</th>\n",
       "      <td>NGC6482</td>\n",
       "    </tr>\n",
       "    <tr>\n",
       "      <th>60</th>\n",
       "      <td>NGC7331</td>\n",
       "    </tr>\n",
       "    <tr>\n",
       "      <th>61</th>\n",
       "      <td>NGC7743</td>\n",
       "    </tr>\n",
       "  </tbody>\n",
       "</table>\n",
       "<p>62 rows × 1 columns</p>\n",
       "</div>"
      ],
      "text/plain": [
       "       Name\n",
       "0    NGC266\n",
       "1    NGC315\n",
       "2    NGC410\n",
       "3    NGC474\n",
       "4    NGC524\n",
       "..      ...\n",
       "57  NGC5846\n",
       "58  NGC5866\n",
       "59  NGC6482\n",
       "60  NGC7331\n",
       "61  NGC7743\n",
       "\n",
       "[62 rows x 1 columns]"
      ]
     },
     "execution_count": 43,
     "metadata": {},
     "output_type": "execute_result"
    }
   ],
   "source": [
    "matchedC"
   ]
  },
  {
   "cell_type": "code",
   "execution_count": null,
   "id": "01240488-75c4-4b92-bb18-0a493d9e9c3b",
   "metadata": {},
   "outputs": [],
   "source": []
  },
  {
   "cell_type": "code",
   "execution_count": null,
   "id": "9599940c-b31b-4365-a4ca-ef943fae66a4",
   "metadata": {},
   "outputs": [],
   "source": []
  }
 ],
 "metadata": {
  "kernelspec": {
   "display_name": "Python 3",
   "language": "python",
   "name": "python3"
  },
  "language_info": {
   "codemirror_mode": {
    "name": "ipython",
    "version": 3
   },
   "file_extension": ".py",
   "mimetype": "text/x-python",
   "name": "python",
   "nbconvert_exporter": "python",
   "pygments_lexer": "ipython3",
   "version": "3.8.8"
  }
 },
 "nbformat": 4,
 "nbformat_minor": 5
}
